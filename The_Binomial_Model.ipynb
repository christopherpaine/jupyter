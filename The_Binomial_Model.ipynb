{
  "nbformat": 4,
  "nbformat_minor": 0,
  "metadata": {
    "colab": {
      "provenance": [],
      "authorship_tag": "ABX9TyND6XTIsdhBaiRpovK8xz0B",
      "include_colab_link": true
    },
    "kernelspec": {
      "name": "python3",
      "display_name": "Python 3"
    },
    "language_info": {
      "name": "python"
    }
  },
  "cells": [
    {
      "cell_type": "markdown",
      "metadata": {
        "id": "view-in-github",
        "colab_type": "text"
      },
      "source": [
        "<a href=\"https://colab.research.google.com/github/christopherpaine/jupyter/blob/main/The_Binomial_Model.ipynb\" target=\"_parent\"><img src=\"https://colab.research.google.com/assets/colab-badge.svg\" alt=\"Open In Colab\"/></a>"
      ]
    },
    {
      "cell_type": "code",
      "source": [],
      "metadata": {
        "id": "jSq6DSod1nFM"
      },
      "execution_count": null,
      "outputs": []
    },
    {
      "cell_type": "code",
      "source": [],
      "metadata": {
        "id": "hA7sv48-JyuQ"
      },
      "execution_count": null,
      "outputs": []
    },
    {
      "cell_type": "markdown",
      "source": [
        "<font color=”blue”> \n",
        "what is the point of the introduction of a portfolio value... </font>\n",
        "\n",
        "<font color=”blue”> i.e. $V_t$</font>\n",
        "\n",
        "<font color=”blue”>it seems like an unnecessary step... </font>\n",
        "\n",
        "<font color=”blue”>why not go straight into valuing the derivative</font>\n",
        "\n",
        "\n",
        "\n",
        "##**risky stock**\n",
        "Non dividend paying stock:  $S_t$\n",
        "\n",
        "$S_{1}=\\left\\{\\begin{matrix}\n",
        "S_0u & \\text{if the price goes up} \\\\\n",
        "S_0d & \\text{if the price goes down} \\\\ \n",
        "\\end{matrix}\\right.$\n",
        "\n",
        "\n",
        "##**risk free asset**\n",
        "Bond \\ Cash Account:  $B_t$\n",
        "\n",
        "$B_t=e^{rt}$\n",
        "\n",
        "$B_0=1$\n",
        "\n",
        "##**an arbitrage situation**\n",
        "arbitrage occurs if the following isn't true:\n",
        "\n",
        "$d<e^r<u$\n",
        "\n",
        "##**a portfolio**\n",
        "\n",
        "$\\phi$ units of stock and $\\psi$ units of cash\n",
        "\n",
        "$V_t$ value of portfolio at time t\n",
        "\n",
        "$V_0=\\phi S_0 + \\psi $\n",
        "\n",
        "$V_{1}=\\left\\{\\begin{matrix}\n",
        "\\phi S_0u+\\psi e^r & \\text{if the price goes up} \\\\\n",
        "\\phi S_0d+\\psi e^r & \\text{if the price goes down} \\\\ \n",
        "\\end{matrix}\\right.$\n",
        "##**introduce a derivative**\n",
        "\n",
        "$V_{1}=\\left\\{\\begin{matrix}\n",
        "c_u & \\text{if the price goes up} \\\\\n",
        "c_d & \\text{if the price goes down} \\\\ \n",
        "\\end{matrix}\\right.$\n",
        "\n",
        "##**Expressing the holdings in terms of the value of the derivative at time 1 and dynamics of the stock**\n",
        "\n",
        "$\\begin{aligned} \\phi & =\\frac{c_u-c_d}{S_0(u-d)} \\\\ \\psi & =e^{-r}\\left(\\frac{c_d u-c_u d}{u-d}\\right)\\end{aligned}$\n",
        "\n",
        "\n",
        "##**Expressing initial value of portfolio in terms of these holdings and in a way that looks like an expected value**\n",
        "\n",
        "$\\begin{aligned} V_0 & =\\phi S_0+\\psi \\\\ \\\\ & =e^{-r}\\left(q c_u+(1-q) c_d\\right)\\end{aligned}$\n",
        "\n",
        "\n",
        "where\n",
        "\n",
        "$\\begin{gathered}q=\\frac{e^r-d}{u-d} \\\\ \\\\ 1-q=\\frac{u-e^r}{u-d}\\end{gathered}$\n",
        "\n",
        "note that due to our no arbitrage condition:\n",
        "\n",
        "$0<q<1$\n",
        "\n"
      ],
      "metadata": {
        "id": "l7ofTF7frh-m"
      }
    },
    {
      "cell_type": "markdown",
      "source": [],
      "metadata": {
        "id": "z2cv7-0Vs3Vn"
      }
    }
  ]
}