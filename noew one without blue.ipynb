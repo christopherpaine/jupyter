{
 "cells": [
  {
   "attachments": {},
   "cell_type": "markdown",
   "metadata": {},
   "source": [
    "##**risky stock**\n",
    "Non dividend paying stock:  $S_t$\n",
    "\n",
    "$S_{1}=\\left\\{\\begin{matrix}\n",
    "S_0u & \\text{if the price goes up} \\\\\n",
    "S_0d & \\text{if the price goes down} \\\\ \n",
    "\\end{matrix}\\right.$\n",
    "\n",
    "\n",
    "##**risk free asset**\n",
    "Bond \\ Cash Account:  $B_t$\n",
    "\n",
    "$B_t=e^{rt}$\n",
    "\n",
    "$B_0=1$\n",
    "\n",
    "##**an arbitrage situation**\n",
    "arbitrage occurs if the following isn't true:\n",
    "\n",
    "$d<e^r<u$\n",
    "\n",
    "##**a portfolio**\n",
    "\n",
    "$\\phi$ units of stock and $\\psi$ units of cash\n",
    "\n",
    "$V_t$ value of portfolio at time t\n",
    "\n",
    "$V_0=\\phi S_0 + \\psi $\n",
    "\n",
    "$V_{1}=\\left\\{\\begin{matrix}\n",
    "\\phi S_0u+\\psi e^r & \\text{if the price goes up} \\\\\n",
    "\\phi S_0d+\\psi e^r & \\text{if the price goes down} \\\\ \n",
    "\\end{matrix}\\right.$\n",
    "##**introduce a derivative**\n",
    "\n",
    "$V_{1}=\\left\\{\\begin{matrix}\n",
    "c_u & \\text{if the price goes up} \\\\\n",
    "c_d & \\text{if the price goes down} \\\\ \n",
    "\\end{matrix}\\right.$\n",
    "\n",
    "##**Expressing the holdings in terms of the value of the derivative at time 1 and dynamics of the stock**\n",
    "\n",
    "$\\begin{aligned} \\phi & =\\frac{c_u-c_d}{S_0(u-d)} \\\\ \\psi & =e^{-r}\\left(\\frac{c_d u-c_u d}{u-d}\\right)\\end{aligned}$\n",
    "\n",
    "\n",
    "##**Expressing initial value of portfolio in terms of these holdings and in a way that looks like an expected value**\n",
    "\n",
    "$\\begin{aligned} V_0 & =\\phi S_0+\\psi \\\\ \\\\ & =e^{-r}\\left(q c_u+(1-q) c_d\\right)\\end{aligned}$\n",
    "\n",
    "\n",
    "where\n",
    "\n",
    "$\\begin{gathered}q=\\frac{e^r-d}{u-d} \\\\ \\\\ 1-q=\\frac{u-e^r}{u-d}\\end{gathered}$\n",
    "\n",
    "note that due to our no arbitrage condition:\n",
    "\n",
    "$0<q<1$\n",
    "\n"
   ]
  }
 ],
 "metadata": {
  "kernelspec": {
   "display_name": "Python 3",
   "language": "python",
   "name": "python3"
  },
  "language_info": {
   "name": "python",
   "version": "3.10.5"
  },
  "orig_nbformat": 4,
  "vscode": {
   "interpreter": {
    "hash": "a5acc429cc2e58fa062afccf6e589a7de30fbc8a71cba6007bd633148c4825db"
   }
  }
 },
 "nbformat": 4,
 "nbformat_minor": 2
}
