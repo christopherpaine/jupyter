{
 "cells": [
  {
   "cell_type": "code",
   "execution_count": 6,
   "metadata": {},
   "outputs": [
    {
     "name": "stderr",
     "output_type": "stream",
     "text": [
      "\u001b[32m\u001b[1m  Activating\u001b[22m\u001b[39m project at `c:\\Users\\Christopher\\Documents\\GITHUB REPOSITORIES\\Jupyter\\jupyter\\IfoA_DSRG_Data_Visualisation\\in_Julia\\myenv`\n"
     ]
    },
    {
     "ename": "ArgumentError",
     "evalue": "ArgumentError: Package GridInterpolations not found in current path.\n- Run `import Pkg; Pkg.add(\"GridInterpolations\")` to install the GridInterpolations package.",
     "output_type": "error",
     "traceback": [
      "ArgumentError: Package GridInterpolations not found in current path.\n",
      "- Run `import Pkg; Pkg.add(\"GridInterpolations\")` to install the GridInterpolations package.\n",
      "\n",
      "Stacktrace:\n",
      "  [1] macro expansion\n",
      "    @ .\\loading.jl:1163 [inlined]\n",
      "  [2] macro expansion\n",
      "    @ .\\lock.jl:223 [inlined]\n",
      "  [3] require(into::Module, mod::Symbol)\n",
      "    @ Base .\\loading.jl:1144\n",
      "  [4] eval\n",
      "    @ .\\boot.jl:368 [inlined]\n",
      "  [5] include_string(mapexpr::typeof(REPL.softscope), mod::Module, code::String, filename::String)\n",
      "    @ Base .\\loading.jl:1428\n",
      "  [6] #invokelatest#2\n",
      "    @ .\\essentials.jl:729 [inlined]\n",
      "  [7] invokelatest\n",
      "    @ .\\essentials.jl:726 [inlined]\n",
      "  [8] (::VSCodeServer.var\"#198#199\"{VSCodeServer.NotebookRunCellArguments, String})()\n",
      "    @ VSCodeServer c:\\Users\\Christopher\\.vscode\\extensions\\julialang.language-julia-1.38.2\\scripts\\packages\\VSCodeServer\\src\\serve_notebook.jl:19\n",
      "  [9] withpath(f::VSCodeServer.var\"#198#199\"{VSCodeServer.NotebookRunCellArguments, String}, path::String)\n",
      "    @ VSCodeServer c:\\Users\\Christopher\\.vscode\\extensions\\julialang.language-julia-1.38.2\\scripts\\packages\\VSCodeServer\\src\\repl.jl:249\n",
      " [10] notebook_runcell_request(conn::VSCodeServer.JSONRPC.JSONRPCEndpoint{Base.PipeEndpoint, Base.PipeEndpoint}, params::VSCodeServer.NotebookRunCellArguments)\n",
      "    @ VSCodeServer c:\\Users\\Christopher\\.vscode\\extensions\\julialang.language-julia-1.38.2\\scripts\\packages\\VSCodeServer\\src\\serve_notebook.jl:13\n",
      " [11] dispatch_msg(x::VSCodeServer.JSONRPC.JSONRPCEndpoint{Base.PipeEndpoint, Base.PipeEndpoint}, dispatcher::VSCodeServer.JSONRPC.MsgDispatcher, msg::Dict{String, Any})\n",
      "    @ VSCodeServer.JSONRPC c:\\Users\\Christopher\\.vscode\\extensions\\julialang.language-julia-1.38.2\\scripts\\packages\\JSONRPC\\src\\typed.jl:67\n",
      " [12] serve_notebook(pipename::String, outputchannel_logger::Base.CoreLogging.SimpleLogger; crashreporting_pipename::String)\n",
      "    @ VSCodeServer c:\\Users\\Christopher\\.vscode\\extensions\\julialang.language-julia-1.38.2\\scripts\\packages\\VSCodeServer\\src\\serve_notebook.jl:139\n",
      " [13] top-level scope\n",
      "    @ c:\\Users\\Christopher\\.vscode\\extensions\\julialang.language-julia-1.38.2\\scripts\\notebook\\notebook.jl:32"
     ]
    }
   ],
   "source": [
    "using Pkg\n",
    "Pkg.activate(\"myenv\")\n",
    "using PlotlyJS, CSV, HTTP, DataFrames, GridInterpolations\n",
    "# Read data from a csv\n",
    "df = CSV.read(download(\"https://raw.githubusercontent.com/christopherpaine/MDD/main/Mortality_tables/HMD_UK_males_1x1.csv\"), DataFrame, header=1)\n",
    "\n",
    "# Extract x, y, and z data\n",
    "myfloat(s::AbstractString) = parse(Float64, String(s))\n",
    "\n",
    "x = myfloat.(filter(x -> x != \"110+\", df.Age))\n",
    "y = convert.(Int64, df.Year)\n",
    "z = convert.(Float64, df.qx)\n",
    "\n",
    "xi = range(minimum(x), maximum(x), length=100)\n",
    "yi = range(minimum(y), maximum(y), length=100)\n",
    "xi_n = xi\n",
    "yi_n = yi\n",
    "\n",
    "Xn, Yn = meshgrid(xi_n, yi_n)"
   ]
  }
 ],
 "metadata": {
  "kernelspec": {
   "display_name": "Julia 1.8.5",
   "language": "julia",
   "name": "julia-1.8"
  },
  "language_info": {
   "file_extension": ".jl",
   "mimetype": "application/julia",
   "name": "julia",
   "version": "1.8.5"
  },
  "orig_nbformat": 4,
  "vscode": {
   "interpreter": {
    "hash": "a5acc429cc2e58fa062afccf6e589a7de30fbc8a71cba6007bd633148c4825db"
   }
  }
 },
 "nbformat": 4,
 "nbformat_minor": 2
}
