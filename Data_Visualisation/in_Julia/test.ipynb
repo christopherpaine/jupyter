{
 "cells": [
  {
   "cell_type": "code",
   "execution_count": 3,
   "metadata": {},
   "outputs": [
    {
     "name": "stderr",
     "output_type": "stream",
     "text": [
      "\u001b[32m\u001b[1m  Activating\u001b[22m\u001b[39m project at `c:\\Users\\Christopher\\Documents\\GITHUB REPOSITORIES\\Jupyter\\jupyter\\IfoA_DSRG_Data_Visualisation\\in_Julia\\myenv`\n"
     ]
    },
    {
     "data": {
      "text/plain": [
       "10989-element Vector{Float64}:\n",
       " 0.08693\n",
       " 0.02689\n",
       " 0.0129\n",
       " 0.0063\n",
       " 0.0043\n",
       " 0.00377\n",
       " 0.00315\n",
       " 0.00252\n",
       " 0.00217\n",
       " 0.00188\n",
       " ⋮\n",
       " 0.43279\n",
       " 0.45269\n",
       " 0.47165\n",
       " 0.4896\n",
       " 0.50645\n",
       " 0.52217\n",
       " 0.53675\n",
       " 0.55018\n",
       " 1.0"
      ]
     },
     "metadata": {},
     "output_type": "display_data"
    }
   ],
   "source": [
    "using Pkg\n",
    "Pkg.activate(\"myenv\")\n",
    "using DataFrames\n",
    "using CSV\n",
    "#using Plots\n",
    "using DelimitedFiles\n",
    "using Statistics\n",
    "using Interpolations\n",
    "using LinearAlgebra\n",
    "using StatsBase\n",
    "using Plotly\n",
    "using PlotlyJS\n",
    "\n",
    "# Load CSV file\n",
    "df = CSV.read(download(\"https://raw.githubusercontent.com/christopherpaine/MDD/main/Mortality_tables/HMD_UK_males_1x1.csv\"), DataFrame, header=1)\n",
    "\n",
    "# Extract x, y, and z data\n",
    "myfloat(s::AbstractString) = parse(Float64, String(s))\n",
    "\n",
    "x = myfloat.(filter(x -> x != \"110+\", df.Age))\n",
    "y = convert.(Int64, df.Year)\n",
    "z = convert.(Float64, df.qx)\n"
   ]
  },
  {
   "cell_type": "code",
   "execution_count": 9,
   "metadata": {},
   "outputs": [
    {
     "ename": "UndefVarError",
     "evalue": "UndefVarError: surface not defined",
     "output_type": "error",
     "traceback": [
      "UndefVarError: surface not defined\n",
      "\n",
      "Stacktrace:\n",
      " [1] top-level scope\n",
      "   @ c:\\Users\\Christopher\\Documents\\GITHUB REPOSITORIES\\Jupyter\\jupyter\\IfoA_DSRG_Data_Visualisation\\in_Julia\\test.ipynb:6"
     ]
    }
   ],
   "source": [
    "layout = Layout(\n",
    "    title=\"3D Mortality\", autosize=false,\n",
    "    width=500, height=500,\n",
    "    margin=attr(l=65, r=50, b=65, t=90)\n",
    ")\n",
    "PlotlyJS.plot(surface(z=z, x=x, y=y), layout)"
   ]
  },
  {
   "cell_type": "code",
   "execution_count": 5,
   "metadata": {},
   "outputs": [
    {
     "ename": "UndefVarError",
     "evalue": "UndefVarError: plotly_surface not defined",
     "output_type": "error",
     "traceback": [
      "UndefVarError: plotly_surface not defined\n",
      "\n",
      "Stacktrace:\n",
      " [1] top-level scope\n",
      "   @ c:\\Users\\Christopher\\Documents\\GITHUB REPOSITORIES\\Jupyter\\jupyter\\IfoA_DSRG_Data_Visualisation\\in_Julia\\test.ipynb:1"
     ]
    }
   ],
   "source": [
    "surface = plotly_surface(x=x, y=y, z=z)\n",
    "layout = Layout(scene=attr(xaxis=attr(title=\"X\"), yaxis=attr(title=\"Y\"), zaxis=attr(title=\"Z\")))\n",
    "plot(surface, layout)\n"
   ]
  },
  {
   "cell_type": "code",
   "execution_count": 2,
   "metadata": {},
   "outputs": [
    {
     "ename": "MethodError",
     "evalue": "MethodError: no method matching linear_interpolation(::Tuple{Vector{Float64}, Vector{Int64}}, ::Vector{Float64}; extrapolation_bc=Line())\nClosest candidates are:\n  linear_interpolation(!Matched::AbstractRange, ::AbstractVector; extrapolation_bc) at C:\\Users\\Christopher\\.julia\\packages\\Interpolations\\nDwIa\\src\\convenience-constructors.jl:7\n  linear_interpolation(!Matched::AbstractVector, ::AbstractVector; extrapolation_bc) at C:\\Users\\Christopher\\.julia\\packages\\Interpolations\\nDwIa\\src\\convenience-constructors.jl:9\n  linear_interpolation(!Matched::Tuple{Vararg{AbstractRange, N}}, ::AbstractArray{T, N}; extrapolation_bc) where {N, T} at C:\\Users\\Christopher\\.julia\\packages\\Interpolations\\nDwIa\\src\\convenience-constructors.jl:23\n  ...",
     "output_type": "error",
     "traceback": [
      "MethodError: no method matching linear_interpolation(::Tuple{Vector{Float64}, Vector{Int64}}, ::Vector{Float64}; extrapolation_bc=Line())\n",
      "Closest candidates are:\n",
      "  linear_interpolation(!Matched::AbstractRange, ::AbstractVector; extrapolation_bc) at C:\\Users\\Christopher\\.julia\\packages\\Interpolations\\nDwIa\\src\\convenience-constructors.jl:7\n",
      "  linear_interpolation(!Matched::AbstractVector, ::AbstractVector; extrapolation_bc) at C:\\Users\\Christopher\\.julia\\packages\\Interpolations\\nDwIa\\src\\convenience-constructors.jl:9\n",
      "  linear_interpolation(!Matched::Tuple{Vararg{AbstractRange, N}}, ::AbstractArray{T, N}; extrapolation_bc) where {N, T} at C:\\Users\\Christopher\\.julia\\packages\\Interpolations\\nDwIa\\src\\convenience-constructors.jl:23\n",
      "  ...\n",
      "\n",
      "Stacktrace:\n",
      " [1] LinearInterpolation(::Tuple{Vector{Float64}, Vector{Int64}}, ::Vararg{Any}; kwargs::Base.Pairs{Symbol, Line{Nothing}, Tuple{Symbol}, NamedTuple{(:extrapolation_bc,), Tuple{Line{Nothing}}}})\n",
      "   @ Interpolations .\\deprecated.jl:72\n",
      " [2] top-level scope\n",
      "   @ c:\\Users\\Christopher\\Documents\\GITHUB REPOSITORIES\\Jupyter\\jupyter\\IfoA_DSRG_Data_Visualisation\\in Julia\\test.ipynb:8"
     ]
    }
   ],
   "source": [
    "# Create grid\n",
    "xi = range(minimum(x), stop=maximum(x), length=100)\n",
    "yi = range(minimum(y), stop=maximum(y), length=100)\n",
    "xi_n, yi_n = copy(xi), copy(yi)\n",
    "Xn, Yn = hcat(xi_n'), repeat(yi_n', length(xi_n)), zeros(length(xi_n), length(yi_n))\n",
    "\n",
    "# Interpolate z data\n",
    "interp = LinearInterpolation((x,y), z, extrapolation_bc=Line())\n",
    "Z = zeros(length(xi_n), length(yi_n))\n",
    "for i in 1:length(xi_n)\n",
    "    for j in 1:length(yi_n)\n",
    "        Z[i, j] = interp((xi_n[i], yi_n[j]))\n",
    "    end\n",
    "end\n",
    "\n",
    "# Compute log of Z\n",
    "z_log = log10.(Z)\n",
    "\n",
    "# Create plot\n",
    "heatmap(xi_n, yi_n, Z, c=z_log, color=:blues, xlabel=\"Age\", ylabel=\"Year\", zscale=:log10, title=\"Mortality Table\",\n",
    "        clims=(minimum(z_log), maximum(z_log)), colorbar_title=\"qx\", colorbar_ticks=[-6, -4, -3, -2, -1, 0],\n",
    "        colorbar_tick_labels=[0, 1e-4, 0.001, 0.01, 0.1, 1], colorbar_length=0.85)"
   ]
  }
 ],
 "metadata": {
  "kernelspec": {
   "display_name": "Julia 1.8.5",
   "language": "julia",
   "name": "julia-1.8"
  },
  "language_info": {
   "file_extension": ".jl",
   "mimetype": "application/julia",
   "name": "julia",
   "version": "1.8.5"
  },
  "orig_nbformat": 4
 },
 "nbformat": 4,
 "nbformat_minor": 2
}
