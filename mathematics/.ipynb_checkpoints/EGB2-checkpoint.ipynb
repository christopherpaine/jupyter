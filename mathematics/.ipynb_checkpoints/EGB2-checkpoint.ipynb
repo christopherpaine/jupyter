{
 "cells": [
  {
   "cell_type": "markdown",
   "metadata": {},
   "source": [
    "## EGB2 Distribtuion"
   ]
  },
  {
   "cell_type": "markdown",
   "metadata": {},
   "source": [
    "$f (x|\\mu,\\sigma,\\alpha,\\beta)        =  \\frac{e^{\\left(\\frac{x - \\mu}{\\sigma}\\right)^\\alpha}}{\\sigma B(\\alpha, \\beta)(1+e^{ (\\frac{x- \\mu}{\\sigma})})^{(\\alpha + \\beta)} }$\n"
   ]
  },
  {
   "cell_type": "markdown",
   "metadata": {},
   "source": [
    "$B (\\alpha , \\beta) = \\Gamma (\\alpha) \\Gamma(\\beta)$"
   ]
  },
  {
   "cell_type": "markdown",
   "metadata": {},
   "source": [
    "## Mean\n",
    "\n",
    "$\\mu + \\sigma \\left( \\frac {dlog \\Gamma(\\alpha)}{dx} - \\frac{dlog \\Gamma(\\beta)}{dx}     \\right)$"
   ]
  },
  {
   "cell_type": "markdown",
   "metadata": {},
   "source": [
    "## Variances\n",
    "\n",
    "$\\sigma^{2} \\left( \\frac {d^{2}log \\Gamma(\\alpha)}{dx^{2}} - \\frac{d^{2}log \\Gamma(\\beta)}{dx^{2}}     \\right)$"
   ]
  },
  {
   "cell_type": "markdown",
   "metadata": {},
   "source": [
    "## words of caution\n",
    "\n",
    "don't get confused between the \n",
    "\n",
    "* gamma function\n",
    "* gamma distribution"
   ]
  },
  {
   "cell_type": "markdown",
   "metadata": {},
   "source": []
  },
  {
   "cell_type": "code",
   "execution_count": null,
   "metadata": {},
   "outputs": [
    {
     "ename": "",
     "evalue": "",
     "output_type": "error",
     "traceback": [
      "\u001b[1;31mJupyter cannot be started. Error attempting to locate Jupyter: Running cells with '/bin/python3' requires the notebook package.\n",
      "\u001b[1;31mRun the following command to install 'jupyter and notebook' into the Python environment. \n",
      "\u001b[1;31mCommand: 'python -m pip install jupyter notebook -U\n",
      "\u001b[1;31mor\n",
      "\u001b[1;31mconda install jupyter notebook -U'\n",
      "\u001b[1;31mClick <a href='https://aka.ms/installJupyterForVSCode'>here</a> for more info."
     ]
    }
   ],
   "source": [
    "from graphviz import Digraph                                                                                                                                                                        \n",
    "                                                                                                                                                                                                     \n",
    " dot = Digraph(comment='The Round Table')                                                                                                                                                            \n",
    "                                                                                                                                                                                                     \n",
    " dot.node('A', 'King Arthur')                                                                                                                                                                        \n",
    " dot.node('B', 'Sir Bedevere the Wise')                                                                                                                                                              \n",
    " dot.node('L', 'Sir Lancelot the Brave')                                                                                                                                                             \n",
    "                                                                                                                                                                                                     \n",
    " dot.edges(['AB', 'AL'])                                                                                                                                                                             \n",
    " dot.edge('B', 'L', constraint='false')                                                                                                                                                              \n",
    "                                                                                                                                                                                                     \n",
    " dot.render('test-output/round-table.gv', view=True)  # This line will render and optionally open the file.                                                                                          \n",
    "\n",
    "display(dot)                                                                                                                   "
   ]
  },
  {
   "cell_type": "markdown",
   "metadata": {},
   "source": []
  }
 ],
 "metadata": {
  "kernelspec": {
   "display_name": "Python 3",
   "language": "python",
   "name": "python3"
  },
  "language_info": {
   "name": "python",
   "version": "3.11.2"
  }
 },
 "nbformat": 4,
 "nbformat_minor": 2
}
