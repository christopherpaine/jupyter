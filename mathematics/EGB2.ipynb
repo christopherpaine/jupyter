{
 "cells": [
  {
   "cell_type": "markdown",
   "metadata": {},
   "source": [
    "## EGB2 Distribtuion"
   ]
  },
  {
   "cell_type": "markdown",
   "metadata": {},
   "source": [
    "$f (x|\\mu,\\sigma,\\alpha,\\beta)        =  \\frac{e^{\\left(\\frac{x - \\mu}{\\sigma}\\right)^\\alpha}}{\\sigma B(\\alpha, \\beta)(1+e^{ (\\frac{x- \\mu}{\\sigma})})^{(\\alpha + \\beta)} }$\n"
   ]
  },
  {
   "cell_type": "markdown",
   "metadata": {},
   "source": [
    "$B (\\alpha , \\beta) = \\Gamma (\\alpha) \\Gamma(\\beta)$"
   ]
  },
  {
   "cell_type": "markdown",
   "metadata": {},
   "source": [
    "## Mean\n",
    "\n",
    "$\\mu + \\sigma \\left( \\frac {dlog \\Gamma(\\alpha)}{dx} - \\frac{dlog \\Gamma(\\beta)}{dx}     \\right)$"
   ]
  },
  {
   "cell_type": "markdown",
   "metadata": {},
   "source": [
    "## words of caution\n",
    "\n",
    "don't get confused between the \n",
    "\n",
    "* gamma function\n",
    "* gamma distribution"
   ]
  },
  {
   "cell_type": "markdown",
   "metadata": {},
   "source": []
  }
 ],
 "metadata": {
  "language_info": {
   "name": "python"
  }
 },
 "nbformat": 4,
 "nbformat_minor": 2
}
