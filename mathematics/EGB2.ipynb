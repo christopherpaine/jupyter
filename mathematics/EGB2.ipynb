{
 "cells": [
  {
   "cell_type": "markdown",
   "metadata": {},
   "source": [
    "## EGB2 Distribtuion"
   ]
  },
  {
   "cell_type": "markdown",
   "metadata": {},
   "source": [
    "$f (x|\\mu,\\sigma,\\alpha,\\beta)        =  \\frac{e^{\\left(\\frac{x - \\mu}{\\sigma}\\right)^\\alpha}}{\\sigma B(\\alpha, \\beta)(1+e^{ (\\frac{x- \\mu}{\\sigma})})^{(\\alpha + \\beta)} }$\n"
   ]
  },
  {
   "cell_type": "markdown",
   "metadata": {},
   "source": [
    "$B (\\alpha , \\beta) = \\Gamma (\\alpha) \\Gamma(\\beta)$"
   ]
  },
  {
   "cell_type": "markdown",
   "metadata": {},
   "source": [
    "## Mean\n",
    "\n",
    "$\\mu + \\sigma \\left( \\frac {dlog \\Gamma(\\alpha)}{dx} - \\frac{dlog \\Gamma(\\beta)}{dx}     \\right)$"
   ]
  },
  {
   "cell_type": "markdown",
   "metadata": {},
   "source": [
    "## Variances\n",
    "\n",
    "$\\sigma^{2} \\left( \\frac {d^{2}log \\Gamma(\\alpha)}{dx^{2}} - \\frac{d^{2}log \\Gamma(\\beta)}{dx^{2}}     \\right)$"
   ]
  },
  {
   "cell_type": "markdown",
   "metadata": {},
   "source": [
    "# Skewness\n",
    "\n",
    "$x^2$"
   ]
  },
  {
   "cell_type": "markdown",
   "metadata": {},
   "source": [
    "## words of caution\n",
    "\n",
    "don't get confused between the \n",
    "\n",
    "* gamma function\n",
    "* gamma distribution"
   ]
  },
  {
   "cell_type": "markdown",
   "metadata": {},
   "source": []
  },
  {
   "cell_type": "code",
   "execution_count": 2,
   "metadata": {},
   "outputs": [
    {
     "ename": "ModuleNotFoundError",
     "evalue": "No module named 'graphviz'",
     "output_type": "error",
     "traceback": [
      "\u001b[0;31m---------------------------------------------------------------------------\u001b[0m",
      "\u001b[0;31mModuleNotFoundError\u001b[0m                       Traceback (most recent call last)",
      "Cell \u001b[0;32mIn[2], line 1\u001b[0m\n\u001b[0;32m----> 1\u001b[0m \u001b[38;5;28;01mfrom\u001b[39;00m \u001b[38;5;21;01mgraphviz\u001b[39;00m \u001b[38;5;28;01mimport\u001b[39;00m Digraph                                                                                                                                                                        \n\u001b[1;32m      3\u001b[0m dot \u001b[38;5;241m=\u001b[39m Digraph(comment\u001b[38;5;241m=\u001b[39m\u001b[38;5;124m'\u001b[39m\u001b[38;5;124mThe Round Table\u001b[39m\u001b[38;5;124m'\u001b[39m)                                                                                                                                                            \n\u001b[1;32m      5\u001b[0m dot\u001b[38;5;241m.\u001b[39mnode(\u001b[38;5;124m'\u001b[39m\u001b[38;5;124mA\u001b[39m\u001b[38;5;124m'\u001b[39m, \u001b[38;5;124m'\u001b[39m\u001b[38;5;124mKing Arthur\u001b[39m\u001b[38;5;124m'\u001b[39m)                                                                                                                                                                        \n",
      "\u001b[0;31mModuleNotFoundError\u001b[0m: No module named 'graphviz'"
     ]
    }
   ],
   "source": [
    "from graphviz import Digraph                                                                                                                                                                        \n",
    "                                                                                                                                                                                                     \n",
    "dot = Digraph(comment='The Round Table')                                                                                                                                                            \n",
    "                                                                                                                                                                                                     \n",
    "dot.node('A', 'King Arthur')                                                                                                                                                                        \n",
    "dot.node('B', 'Sir Bedevere the Wise')                                                                                                                                                              \n",
    "dot.node('L', 'Sir Lancelot the Brave')                                                                                                                                                             \n",
    "                                                                                                                                                                                                     \n",
    "dot.edges(['AB', 'AL'])                                                                                                                                                                             \n",
    "dot.edge('B', 'L', constraint='false')                                                                                                                                                              \n",
    "                                                                                                                                                                                                     \n",
    "dot.render('test-output/round-table.gv', view=True)  # This line will render and optionally open the file.                                                                                          \n",
    "\n",
    "display(dot)                                                                                                                   "
   ]
  },
  {
   "cell_type": "markdown",
   "metadata": {},
   "source": []
  }
 ],
 "metadata": {
  "kernelspec": {
   "display_name": "Python 3 (ipykernel)",
   "language": "python",
   "name": "python3"
  },
  "language_info": {
   "codemirror_mode": {
    "name": "ipython",
    "version": 3
   },
   "file_extension": ".py",
   "mimetype": "text/x-python",
   "name": "python",
   "nbconvert_exporter": "python",
   "pygments_lexer": "ipython3",
   "version": "3.11.2"
  }
 },
 "nbformat": 4,
 "nbformat_minor": 4
}
