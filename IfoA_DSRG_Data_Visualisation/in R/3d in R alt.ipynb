{
 "cells": [
  {
   "cell_type": "code",
   "execution_count": 1,
   "id": "7f66c9f9-6081-4280-b331-2b65ac6cc1ff",
   "metadata": {},
   "outputs": [
    {
     "name": "stderr",
     "output_type": "stream",
     "text": [
      "Warning message:\n",
      "\"package 'plotly' was built under R version 3.6.3\"Loading required package: ggplot2\n"
     ]
    },
    {
     "ename": "ERROR",
     "evalue": "Error: package or namespace load failed for 'plotly' in loadNamespace(j <- i[[1L]], c(lib.loc, .libPaths()), versionCheck = vI[[j]]):\n namespace 'htmlwidgets' 1.3 is being loaded, but >= 1.5.2.9001 is required\n",
     "output_type": "error",
     "traceback": [
      "Error: package or namespace load failed for 'plotly' in loadNamespace(j <- i[[1L]], c(lib.loc, .libPaths()), versionCheck = vI[[j]]):\n namespace 'htmlwidgets' 1.3 is being loaded, but >= 1.5.2.9001 is required\nTraceback:\n",
      "1. library(plotly)",
      "2. tryCatch({\n .     attr(package, \"LibPath\") <- which.lib.loc\n .     ns <- loadNamespace(package, lib.loc)\n .     env <- attachNamespace(ns, pos = pos, deps, exclude, include.only)\n . }, error = function(e) {\n .     P <- if (!is.null(cc <- conditionCall(e))) \n .         paste(\" in\", deparse(cc)[1L])\n .     else \"\"\n .     msg <- gettextf(\"package or namespace load failed for %s%s:\\n %s\", \n .         sQuote(package), P, conditionMessage(e))\n .     if (logical.return) \n .         message(paste(\"Error:\", msg), domain = NA)\n .     else stop(msg, call. = FALSE, domain = NA)\n . })",
      "3. tryCatchList(expr, classes, parentenv, handlers)",
      "4. tryCatchOne(expr, names, parentenv, handlers[[1L]])",
      "5. value[[3L]](cond)",
      "6. stop(msg, call. = FALSE, domain = NA)"
     ]
    }
   ],
   "source": [
    "library(readr)\n",
    "library(plotly)\n",
    "library(akima)\n",
    "library(ggplot2)\n",
    "\n",
    "# read data from URL\n",
    "df <- read_csv('https://raw.githubusercontent.com/christopherpaine/MDD/main/Mortality_tables/HMD_UK_males_1x1.csv')\n",
    "\n",
    "# subset the data to exclude Age 110+\n",
    "df <- subset(df, Age != '110+')\n",
    "\n",
    "# convert data to numeric type\n",
    "df$Age <- as.numeric(df$Age)\n",
    "df$Year <- as.numeric(df$Year)\n",
    "df$qx <- as.numeric(df$qx)\n",
    "\n",
    "# create grid for interpolation\n",
    "xi <- seq(min(df$Age), max(df$Age), length.out = 100)\n",
    "yi <- seq(min(df$Year), max(df$Year), length.out = 100)\n",
    "\n",
    "# interpolate z values using cubic method\n",
    "Z <- akima::interp(df$Age, df$Year, df$qx, xo = xi, yo = yi, linear = FALSE)$z\n",
    "\n",
    "# transform z values logarithmically\n",
    "Z_log <- log10(Z)\n",
    "\n",
    "# create plot\n",
    "plot_ly(x = xi, y = yi, z = Z, type = \"surface\", surfacecolor = Z_log, colors = \"Blues\") %>%\n",
    "  layout(scene = list(\n",
    "    zaxis = list(type = \"log\", gridcolor = \"black\", gridwidth = 0.5),\n",
    "    xaxis = list(gridcolor = \"black\", gridwidth = 0.5),\n",
    "    yaxis = list(gridcolor = \"black\", gridwidth = 0.5)),\n",
    "    width = 800, height = 800, template = \"plotly_white\")\n"
   ]
  }
 ],
 "metadata": {
  "kernelspec": {
   "display_name": "Python 3 (ipykernel)",
   "language": "python",
   "name": "python3"
  },
  "language_info": {
   "codemirror_mode": {
    "name": "ipython",
    "version": 3
   },
   "file_extension": ".py",
   "mimetype": "text/x-python",
   "name": "python",
   "nbconvert_exporter": "python",
   "pygments_lexer": "ipython3",
   "version": "3.9.12"
  }
 },
 "nbformat": 4,
 "nbformat_minor": 5
}
